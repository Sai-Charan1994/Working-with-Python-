{
 "cells": [
  {
   "cell_type": "markdown",
   "metadata": {},
   "source": [
    "## Python programs"
   ]
  },
  {
   "cell_type": "markdown",
   "metadata": {},
   "source": [
    "#### Question 1:<br>\n",
    "__The 'searchinsert' function takes a list of integers and an integer as parameters.<br>\n",
    "Modify function to return position of the number passed as second argument in list,<br>\n",
    "if not return the index where it would be if it were inserted in order.__\n"
   ]
  },
  {
   "cell_type": "code",
   "execution_count": 1,
   "metadata": {},
   "outputs": [
    {
     "name": "stdout",
     "output_type": "stream",
     "text": [
      "[3, 5, 7, 6, 2, 1]\n",
      "Sorted list: [1, 2, 3, 5, 6, 7]\n",
      "If the integer is not present, it would be in the index: 3\n"
     ]
    }
   ],
   "source": [
    "import numpy as np\n",
    "\n",
    "def searchinsert(li,inte):\n",
    "    for i in range(len(li)):   \n",
    "        if li[i]==inte:\n",
    "            return i\n",
    "    else:\n",
    "        li.sort()\n",
    "        print(\"Sorted list:\",li)\n",
    "        print(\"If the integer is not present, it would be in the index:\",\n",
    "              [i for i in range(0,len(li)) if li[i]>inte][0])\n",
    "        \n",
    "#li = np.random.randint(-10,10,20)\n",
    "li = [3,5,7,6,2,1]\n",
    "print(li)\n",
    "\n",
    "searchinsert(li,4)"
   ]
  },
  {
   "cell_type": "markdown",
   "metadata": {},
   "source": [
    "### Question 2:\n",
    "__The 'uniqueitems' function takes two lists as parameters. Modify this function to return a new list with only unique items from the lists passed as arguements.__"
   ]
  },
  {
   "cell_type": "code",
   "execution_count": 2,
   "metadata": {},
   "outputs": [
    {
     "name": "stdout",
     "output_type": "stream",
     "text": [
      "The new list with only unique items:\n",
      " [1, 2, 3, 4, 5, 6, 8, 9]\n"
     ]
    }
   ],
   "source": [
    "def uniqueitems(l1,l2):\n",
    "    uni = set(l1+l2)\n",
    "    uni_list = list(uni)\n",
    "    print(\"The new list with only unique items:\\n\",uni_list)\n",
    "    \n",
    "l1 = [1,2,4,5,3,6]\n",
    "l2 = [3,6,8,2,9,1]\n",
    "\n",
    "uniqueitems(l1,l2)"
   ]
  },
  {
   "cell_type": "markdown",
   "metadata": {},
   "source": [
    "### Question 3:\n",
    "__The 'countmatching' function takes two strings as parameters. Modify this function to retun the number of matching characters in the provided strings.__"
   ]
  },
  {
   "cell_type": "code",
   "execution_count": 3,
   "metadata": {},
   "outputs": [
    {
     "name": "stdout",
     "output_type": "stream",
     "text": [
      "sai charan\n",
      "sai rakesh\n",
      "5\n"
     ]
    }
   ],
   "source": [
    "# If we want only the matching pairs we can go with the Set Intersection method.\n",
    "# This method only shows the intersected values(pairs).\n",
    "\n",
    "def countmatch(s1,s2):\n",
    "    set_s1 = set(''.join(s1.split()))\n",
    "    set_s2 = set(''.join(s2.split()))\n",
    "    mc = set_s1 & set_s2\n",
    "    print(len(mc))\n",
    "    \n",
    "s1 = input()\n",
    "s2 = input()\n",
    "\n",
    "countmatch(s1,s2)"
   ]
  },
  {
   "cell_type": "code",
   "execution_count": 5,
   "metadata": {},
   "outputs": [
    {
     "name": "stdout",
     "output_type": "stream",
     "text": [
      "sai caharan\n",
      "sai rakesh\n",
      "The number of matching characters: 8\n"
     ]
    }
   ],
   "source": [
    "# by using re.search() \n",
    "\"\"\"If we want the matching characters we can go with the re.search() method.\n",
    "This method searches for the values of the first string in second string. \n",
    "This method doesn't need to be pairs, if the similar values are present it will show.\"\"\"\n",
    "\n",
    "import re\n",
    "def countmatch(s1,s2):\n",
    "    s1 = ''.join(s1.split())\n",
    "    s2 = ''.join(s2.split())\n",
    "    \n",
    "    count = 0\n",
    "    for i in s1:\n",
    "        if re.search(i,s2):\n",
    "            count+=1\n",
    "    print(\"The number of matching characters:\",count)\n",
    "    \n",
    "s1 = input()\n",
    "s2 = input()\n",
    "\n",
    "countmatch(s1,s2)"
   ]
  },
  {
   "cell_type": "code",
   "execution_count": null,
   "metadata": {},
   "outputs": [],
   "source": []
  }
 ],
 "metadata": {
  "kernelspec": {
   "display_name": "Python 3",
   "language": "python",
   "name": "python3"
  },
  "language_info": {
   "codemirror_mode": {
    "name": "ipython",
    "version": 3
   },
   "file_extension": ".py",
   "mimetype": "text/x-python",
   "name": "python",
   "nbconvert_exporter": "python",
   "pygments_lexer": "ipython3",
   "version": "3.7.6"
  }
 },
 "nbformat": 4,
 "nbformat_minor": 4
}
