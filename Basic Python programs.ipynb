{
 "cells": [
  {
   "cell_type": "markdown",
   "metadata": {},
   "source": [
    "### Q1. Write the program to calculate the average of numbers in a given list.  "
   ]
  },
  {
   "cell_type": "code",
   "execution_count": 2,
   "metadata": {},
   "outputs": [
    {
     "name": "stdout",
     "output_type": "stream",
     "text": [
      "Enter the number of elements to be added in a list: 3\n",
      "Enter number 0: 2\n",
      "Enter number 1: 3\n",
      "Enter number 2: 4\n",
      "The average of the numbers in the list:  3.0\n"
     ]
    }
   ],
   "source": [
    "# Formula approach\n",
    "\n",
    "n = int(input(\"Enter the number of elements to be added in a list: \"))\n",
    "a = []\n",
    "for i in range(0,n):\n",
    "    elem = int(input(\"Enter number {}: \".format(i)))\n",
    "    a.append(elem)\n",
    "avg = sum(a)/n\n",
    "print(\"The average of the numbers in the list: \",avg)"
   ]
  },
  {
   "cell_type": "code",
   "execution_count": 3,
   "metadata": {},
   "outputs": [
    {
     "data": {
      "text/plain": [
       "12.0"
      ]
     },
     "execution_count": 3,
     "metadata": {},
     "output_type": "execute_result"
    }
   ],
   "source": [
    "# inbuilt function approach\n",
    "\n",
    "sum([11,12,13])/3"
   ]
  },
  {
   "cell_type": "code",
   "execution_count": 4,
   "metadata": {},
   "outputs": [
    {
     "data": {
      "text/plain": [
       "12"
      ]
     },
     "execution_count": 4,
     "metadata": {},
     "output_type": "execute_result"
    }
   ],
   "source": [
    "# using libraries approach\n",
    "\n",
    "import statistics\n",
    "statistics.mean([11,12,13])"
   ]
  },
  {
   "cell_type": "markdown",
   "metadata": {},
   "source": [
    "### Q 2. Write a python program to read a number n and compute n+nn+nnn"
   ]
  },
  {
   "cell_type": "code",
   "execution_count": 9,
   "metadata": {},
   "outputs": [
    {
     "name": "stdout",
     "output_type": "stream",
     "text": [
      "Enter the number: 5\n",
      "5 + 55 + 555\n"
     ]
    }
   ],
   "source": [
    "n = input(\"Enter the number: \")\n",
    "print(n,'+',n+n,'+',n+n+n)"
   ]
  },
  {
   "cell_type": "markdown",
   "metadata": {},
   "source": [
    "### Q3. -\n",
    "- Using function, write a program for a simple arithmetic calculator. \n",
    "- Write a program to generate a scientific calculator."
   ]
  },
  {
   "cell_type": "code",
   "execution_count": 17,
   "metadata": {},
   "outputs": [],
   "source": [
    "import math\n",
    "\n",
    "def add(num1,num2):\n",
    "    return num1 + num2\n",
    "def sub(num1,num2):\n",
    "    return num1-num2\n",
    "def mul(num1,num2):\n",
    "    return num1*num2\n",
    "def div(num1,num2):\n",
    "    return num1/num2"
   ]
  },
  {
   "cell_type": "code",
   "execution_count": 21,
   "metadata": {},
   "outputs": [
    {
     "name": "stdout",
     "output_type": "stream",
     "text": [
      "SIMPLE AIRTHEMATIC CALCULATOR\n",
      "1.Add, 2.Sub, 3.Mul, 4.Div, 5.Log, 6.Trig, 7.Fact, 8.Square and Sqrt\n",
      "What is the first number?: 2\n",
      "What is the second number?: 3\n",
      "What is the airthematic operation?: 8\n",
      "1.4142135623730951\n",
      "8.0\n"
     ]
    }
   ],
   "source": [
    "print(\"SIMPLE AIRTHEMATIC CALCULATOR\")\n",
    "print(\"1.Add, 2.Sub, 3.Mul, 4.Div, 5.Log, 6.Trig, 7.Fact, 8.Square and Sqrt\")\n",
    "num1 = float(input(\"What is the first number?: \"))\n",
    "num2 = float(input(\"What is the second number?: \"))\n",
    "choice = int(input(\"What is the airthematic operation?: \"))\n",
    "\n",
    "if choice==1:\n",
    "    print(\"The addition of the numbers is\", add(num1,num2))\n",
    "elif choice==2:\n",
    "    print(\"The subtraction of the numbers is\", sub(num1,num2))\n",
    "elif choice==3:\n",
    "    print(\"The multiplication of the numbers is\", mul(num1,num2))\n",
    "elif choice==4:\n",
    "    print(\"The division of the numbers is\", div(num1,num2))\n",
    "elif choice==5:\n",
    "    print(math.log(num1))\n",
    "    print(math.log(num2))\n",
    "    print(math.log10(num1))\n",
    "    print(math.log10(num2))\n",
    "elif choice==6:\n",
    "    print(math.sin(num1))\n",
    "    print(math.sin(num2))\n",
    "elif choice==7:\n",
    "    print(math.factorial(num1))\n",
    "    print(math.factorial(num2))\n",
    "elif choice==8:\n",
    "    print(math.sqrt(num1))\n",
    "    print(pow(num1,num2))\n",
    "    \n",
    "else:\n",
    "    print(\"Invalid option/choice\")"
   ]
  },
  {
   "cell_type": "markdown",
   "metadata": {},
   "source": [
    "### Q4. Write a program to print a odd numbers within a given range"
   ]
  },
  {
   "cell_type": "code",
   "execution_count": 25,
   "metadata": {},
   "outputs": [
    {
     "name": "stdout",
     "output_type": "stream",
     "text": [
      "What's the lower limit of your range? 10\n",
      "What's the upper limit of your range? 20\n",
      "11\n",
      "13\n",
      "15\n",
      "17\n",
      "19\n"
     ]
    }
   ],
   "source": [
    "lower_range = int(input(\"What's the lower limit of your range? \"))\n",
    "upper_range = int(input(\"What's the upper limit of your range? \"))\n",
    "for data in range(lower_range,upper_range+1):\n",
    "    if data%2!=0:\n",
    "        print(data)"
   ]
  },
  {
   "cell_type": "markdown",
   "metadata": {},
   "source": [
    "### Q5. Use a for loop to print the numbers in the range 71 to 80. The code should not contain any numbers."
   ]
  },
  {
   "cell_type": "code",
   "execution_count": 28,
   "metadata": {},
   "outputs": [],
   "source": [
    "# so without using numbers only way to this code is by the help of ascii values"
   ]
  },
  {
   "cell_type": "code",
   "execution_count": 26,
   "metadata": {},
   "outputs": [
    {
     "data": {
      "text/plain": [
       "70"
      ]
     },
     "execution_count": 26,
     "metadata": {},
     "output_type": "execute_result"
    }
   ],
   "source": [
    "ord('F')"
   ]
  },
  {
   "cell_type": "code",
   "execution_count": 27,
   "metadata": {},
   "outputs": [
    {
     "data": {
      "text/plain": [
       "'F'"
      ]
     },
     "execution_count": 27,
     "metadata": {},
     "output_type": "execute_result"
    }
   ],
   "source": [
    "chr(70)"
   ]
  },
  {
   "cell_type": "code",
   "execution_count": 29,
   "metadata": {},
   "outputs": [
    {
     "data": {
      "text/plain": [
       "'Q'"
      ]
     },
     "execution_count": 29,
     "metadata": {},
     "output_type": "execute_result"
    }
   ],
   "source": [
    "chr(81)"
   ]
  },
  {
   "cell_type": "code",
   "execution_count": 30,
   "metadata": {},
   "outputs": [
    {
     "name": "stdout",
     "output_type": "stream",
     "text": [
      "71\n",
      "72\n",
      "73\n",
      "74\n",
      "75\n",
      "76\n",
      "77\n",
      "78\n",
      "79\n",
      "80\n"
     ]
    }
   ],
   "source": [
    "for nums in range(ord('G'),ord('Q')):\n",
    "    print(nums)"
   ]
  },
  {
   "cell_type": "markdown",
   "metadata": {},
   "source": [
    "### Q6. Write a program for currency converter.\n",
    "1USD = 74INR\n",
    "1yen = 50INR\n",
    "1SGD = 60INR"
   ]
  },
  {
   "cell_type": "code",
   "execution_count": 35,
   "metadata": {},
   "outputs": [
    {
     "name": "stdout",
     "output_type": "stream",
     "text": [
      "Currency Converter\n",
      "1.USD to INR 2.yen to INR 3.SGD to INR\n",
      "1 USD = 74 INR \n",
      "1 yen = 50 INR \n",
      "1 SGD = 60 INR\n",
      "What conversion do you want?: 1\n",
      "How many dollars do you have? 100\n",
      "usd is converter to INR 7400.0\n"
     ]
    }
   ],
   "source": [
    "print(\"Currency Converter\")\n",
    "print(\"1.USD to INR 2.yen to INR 3.SGD to INR\")\n",
    "print(\"1 USD = 74 INR \\n1 yen = 50 INR \\n1 SGD = 60 INR\")\n",
    "\n",
    "choice = int(input(\"What conversion do you want?: \"))\n",
    "\n",
    "if choice==1:\n",
    "    usd=float(input(\"How many dollars do you have? \"))\n",
    "    inr=usd*74\n",
    "    print(\"usd is converter to INR\",inr)\n",
    "else:\n",
    "    pass  #keeps your kernel in idle state till there is a hardware interrupt\n"
   ]
  },
  {
   "cell_type": "code",
   "execution_count": 1,
   "metadata": {},
   "outputs": [
    {
     "data": {
      "text/plain": [
       "6084"
      ]
     },
     "execution_count": 1,
     "metadata": {},
     "output_type": "execute_result"
    }
   ],
   "source": [
    "def sqr(num1):\n",
    "    return num1**2\n",
    "\n",
    "sqr(78)"
   ]
  },
  {
   "cell_type": "code",
   "execution_count": 3,
   "metadata": {},
   "outputs": [],
   "source": [
    "name = lambda num1:num1**2"
   ]
  },
  {
   "cell_type": "code",
   "execution_count": 4,
   "metadata": {},
   "outputs": [
    {
     "data": {
      "text/plain": [
       "10000"
      ]
     },
     "execution_count": 4,
     "metadata": {},
     "output_type": "execute_result"
    }
   ],
   "source": [
    "name(100)"
   ]
  },
  {
   "cell_type": "code",
   "execution_count": 5,
   "metadata": {},
   "outputs": [
    {
     "data": {
      "text/plain": [
       "[3, 4, 5, 6, 6, 8, 10, 12, 9, 12, 15, 18, 12, 16, 20, 24]"
      ]
     },
     "execution_count": 5,
     "metadata": {},
     "output_type": "execute_result"
    }
   ],
   "source": [
    "l1 = [1,2,3,4]\n",
    "l2 = [3,4,5,6]\n",
    "[x*y for x in l1 for y in l2]"
   ]
  },
  {
   "cell_type": "code",
   "execution_count": 6,
   "metadata": {},
   "outputs": [],
   "source": [
    "l1 = [10,20,30]\n",
    "l2 = [-10,-20,-30]\n",
    "l3=[x+y for x,y in zip(l1,l2)]"
   ]
  },
  {
   "cell_type": "code",
   "execution_count": 7,
   "metadata": {},
   "outputs": [
    {
     "data": {
      "text/plain": [
       "[0, 0, 0]"
      ]
     },
     "execution_count": 7,
     "metadata": {},
     "output_type": "execute_result"
    }
   ],
   "source": [
    "l3"
   ]
  },
  {
   "cell_type": "code",
   "execution_count": 9,
   "metadata": {},
   "outputs": [
    {
     "data": {
      "text/plain": [
       "[[1, 4, 7], [2, 5, 8], [3, 6, 9]]"
      ]
     },
     "execution_count": 9,
     "metadata": {},
     "output_type": "execute_result"
    }
   ],
   "source": [
    "l = [[1,2,3],[4,5,6],[7,8,9]]\n",
    "[[row[i] for row in l] for i in range(3)]"
   ]
  },
  {
   "cell_type": "code",
   "execution_count": 10,
   "metadata": {},
   "outputs": [
    {
     "data": {
      "text/plain": [
       "[['3'], ['3'], ['3'], ['3'], ['3']]"
      ]
     },
     "execution_count": 10,
     "metadata": {},
     "output_type": "execute_result"
    }
   ],
   "source": [
    "import math\n",
    "[[str(round(math.pi))] for i in range(1,6)]"
   ]
  },
  {
   "cell_type": "code",
   "execution_count": 11,
   "metadata": {},
   "outputs": [
    {
     "data": {
      "text/plain": [
       "3.141592653589793"
      ]
     },
     "execution_count": 11,
     "metadata": {},
     "output_type": "execute_result"
    }
   ],
   "source": [
    "math.pi"
   ]
  },
  {
   "cell_type": "code",
   "execution_count": 13,
   "metadata": {},
   "outputs": [],
   "source": [
    "def name(**kwargs):\n",
    "    if 'fruit' in kwargs:\n",
    "        print(f\"my fav fruit is {kwargs['fruit']}\")"
   ]
  },
  {
   "cell_type": "code",
   "execution_count": 16,
   "metadata": {},
   "outputs": [
    {
     "name": "stdout",
     "output_type": "stream",
     "text": [
      "my fav fruit is apple\n"
     ]
    }
   ],
   "source": [
    "name(fruit = 'apple')"
   ]
  },
  {
   "cell_type": "code",
   "execution_count": 17,
   "metadata": {},
   "outputs": [],
   "source": [
    "# Recursive functions"
   ]
  },
  {
   "cell_type": "code",
   "execution_count": 18,
   "metadata": {},
   "outputs": [
    {
     "name": "stdout",
     "output_type": "stream",
     "text": [
      "enter a num: 67\n",
      "odd\n"
     ]
    }
   ],
   "source": [
    "# to determine whether a number is even or odd recursively.\n",
    "\n",
    "def check(n):\n",
    "    if (n<2):\n",
    "        return (n%2==0)\n",
    "    return (check(n-2))\n",
    "\n",
    "n = int(input(\"enter a num: \"))\n",
    "\n",
    "if check(n)==True:\n",
    "    print(\"even\")\n",
    "else:\n",
    "    print(\"odd\")"
   ]
  },
  {
   "cell_type": "code",
   "execution_count": 21,
   "metadata": {},
   "outputs": [
    {
     "name": "stdout",
     "output_type": "stream",
     "text": [
      "enter the no of elements10\n",
      "0\n",
      "1\n",
      "1\n",
      "2\n",
      "3\n",
      "5\n",
      "8\n",
      "13\n",
      "21\n",
      "34\n"
     ]
    }
   ],
   "source": [
    "# python program to find out the fibonocci series using recursion\n",
    "\n",
    "def fib(n):\n",
    "    if n<=1:\n",
    "        return n\n",
    "    else:\n",
    "        return(fib(n-1)+fib(n-2))\n",
    "    \n",
    "n = int(input(\"enter the no of elements\"))\n",
    "\n",
    "for i in range(n):\n",
    "    print(fib(i))"
   ]
  },
  {
   "cell_type": "code",
   "execution_count": 24,
   "metadata": {},
   "outputs": [
    {
     "name": "stdout",
     "output_type": "stream",
     "text": [
      "Enter a number: 120\n",
      "its not a prime number\n"
     ]
    },
    {
     "data": {
      "text/plain": [
       "False"
      ]
     },
     "execution_count": 24,
     "metadata": {},
     "output_type": "execute_result"
    }
   ],
   "source": [
    "# number is prime or not using recursion function\n",
    "\n",
    "def check(n,div=None):\n",
    "    if div is None:\n",
    "        div=n-1\n",
    "    while div>=2:\n",
    "        if n%div==0:\n",
    "            print(\"its not a prime number\")\n",
    "            return False\n",
    "        else:\n",
    "            return check(n,div-1)\n",
    "    else:\n",
    "        print(\"This is a prime\")\n",
    "        return True\n",
    "        \n",
    "\n",
    "\n",
    "n = int(input(\"Enter a number: \"))\n",
    "check(n)"
   ]
  },
  {
   "cell_type": "markdown",
   "metadata": {},
   "source": [
    "# Write a program to get all the prime factors of the given number"
   ]
  },
  {
   "cell_type": "code",
   "execution_count": 12,
   "metadata": {},
   "outputs": [
    {
     "name": "stdout",
     "output_type": "stream",
     "text": [
      "Enter the number: 630\n",
      "[1, 2, 3, 5, 7]\n"
     ]
    }
   ],
   "source": [
    "num1 = int(input(\"Enter the number: \"))\n",
    "#prime_factors_of_num1 = [i for i in range(0,num1+1) if num1]\n",
    "prime_factors_of_num1=[]\n",
    "for i in range(1,num1+1):\n",
    "    if num1 % i == 0:\n",
    "        prime_factors_of_num1.append(i)\n",
    "        num1=num1/i\n",
    "print(prime_factors_of_num1)        "
   ]
  },
  {
   "cell_type": "markdown",
   "metadata": {},
   "source": [
    "# Identify whether the given string or list is a palindrome."
   ]
  },
  {
   "cell_type": "code",
   "execution_count": 25,
   "metadata": {},
   "outputs": [
    {
     "name": "stdout",
     "output_type": "stream",
     "text": [
      "[14, 11, 14, 18, 13, 16, 19, 17]\n",
      "sample_list is:  Not Palindrome\n",
      "pop\n",
      "jump is:  Palindrome\n",
      "[1, 2, 3, 4, 5, 6, 5, 4, 3, 2, 1]\n",
      "y is:  Palindrome\n"
     ]
    }
   ],
   "source": [
    "def palindrome(x):\n",
    "    if x[0:]==x[::-1]:\n",
    "        return \"Palindrome\"\n",
    "    else:\n",
    "        return \"Not Palindrome\"\n",
    "\n",
    "import numpy as np\n",
    "sample_list = list(np.random.randint(low = 10,high = 20,size = 8))\n",
    "jump = \"pop\"\n",
    "y = [1,2,3,4,5,6,5,4,3,2,1]\n",
    "\n",
    "print(sample_list)\n",
    "print(\"sample_list is: \",palindrome(sample_list))\n",
    "print(jump)\n",
    "print(\"jump is: \",palindrome(jump))\n",
    "print(y)\n",
    "print(\"y is: \",palindrome(y))"
   ]
  },
  {
   "cell_type": "markdown",
   "metadata": {},
   "source": [
    "# Sort a string of words alphabetically"
   ]
  },
  {
   "cell_type": "code",
   "execution_count": 37,
   "metadata": {},
   "outputs": [
    {
     "name": "stdout",
     "output_type": "stream",
     "text": [
      "['I', 'am', 'a', 'fresher', 'in', 'analytics', 'but', 'have', 'a', 'diverse', 'experience', 'in', 'mechanical', 'and', 'healthcare', 'domains', 'and', 'have', 'worked', 'in', 'Singapore', 'which', 'offered', 'great', 'diversity', 'to', 'experience.']\n",
      "['I', 'Singapore', 'a', 'a', 'am', 'analytics', 'and', 'and', 'but', 'diverse', 'diversity', 'domains', 'experience', 'experience.', 'fresher', 'great', 'have', 'have', 'healthcare', 'in', 'in', 'in', 'mechanical', 'offered', 'to', 'which', 'worked']\n",
      "I Singapore a a am analytics and and but diverse diversity domains experience experience. fresher great have have healthcare in in in mechanical offered to which worked\n"
     ]
    }
   ],
   "source": [
    "a = \"I am a fresher in analytics but have a diverse experience in mechanical and healthcare domains and have worked in Singapore which offered great diversity to experience.\"\n",
    "b= a.split()\n",
    "print(b)\n",
    "b.sort()\n",
    "print(b)\n",
    "sorted_a= \" \".join(b)\n",
    "print(sorted_a)"
   ]
  },
  {
   "cell_type": "markdown",
   "metadata": {},
   "source": [
    "# Write a program to index all the items in list."
   ]
  },
  {
   "cell_type": "code",
   "execution_count": 53,
   "metadata": {},
   "outputs": [
    {
     "name": "stdout",
     "output_type": "stream",
     "text": [
      "['0 : I', '1 : Singapore', '2 : a', '2 : a', '4 : am', '5 : analytics', '6 : and', '6 : and', '8 : but', '9 : diverse', '10 : diversity', '11 : domains', '12 : experience', '13 : experience.', '14 : fresher', '15 : great', '16 : have', '16 : have', '18 : healthcare', '19 : in', '19 : in', '19 : in', '22 : mechanical', '23 : offered', '24 : to', '25 : which', '26 : worked']\n"
     ]
    }
   ],
   "source": [
    "c = ['I', 'Singapore', 'a', 'a', 'am', 'analytics', 'and', 'and', 'but', 'diverse', 'diversity', 'domains', 'experience', 'experience.', 'fresher', 'great', 'have', 'have', 'healthcare', 'in', 'in', 'in', 'mechanical', 'offered', 'to', 'which', 'worked']\n",
    "with_index = [str(c.index(i))+\" : \"+str(i) for i in c]\n",
    "print(with_index)"
   ]
  },
  {
   "cell_type": "code",
   "execution_count": null,
   "metadata": {},
   "outputs": [],
   "source": []
  }
 ],
 "metadata": {
  "kernelspec": {
   "display_name": "Python 3",
   "language": "python",
   "name": "python3"
  },
  "language_info": {
   "codemirror_mode": {
    "name": "ipython",
    "version": 3
   },
   "file_extension": ".py",
   "mimetype": "text/x-python",
   "name": "python",
   "nbconvert_exporter": "python",
   "pygments_lexer": "ipython3",
   "version": "3.7.6"
  }
 },
 "nbformat": 4,
 "nbformat_minor": 4
}
