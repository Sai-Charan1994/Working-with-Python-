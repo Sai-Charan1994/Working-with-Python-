{
 "cells": [
  {
   "cell_type": "code",
   "execution_count": null,
   "metadata": {},
   "outputs": [],
   "source": [
    "'''\n",
    "Interactive English Dictionary:\n",
    "This code contains of a definition where the input will be considered\n",
    "if it's the exact same/ if the upper case or lower case or title case is miss typed\n",
    "& even it checks the closest word( It compares the input with the similar word in the data)\n",
    "'''\n",
    "\n",
    "\n",
    "import json\n",
    "from difflib import get_close_matches    \n",
    "\n",
    "data = json.load(open(r\"C:\\Users\\saich\\OneDrive\\Desktop\\Everything else\\Dictionary project\\data.json\"))\n",
    "\n",
    "# json.load(open('location of the file')) to load the data\n",
    "# in the previous line of a code we are loading the data and storing it in a variable just to access it later. \n",
    "\n",
    "def meaning(word):\n",
    "    word = word.lower() \n",
    "    if word in data:\n",
    "        return data[word]\n",
    "    elif word.title() in data:\n",
    "        return data[word.title()]\n",
    "    elif word.upper() in data: #in case user enters words like USA or NATO\n",
    "        return data[word.upper()]\n",
    "    elif len(get_close_matches(word, data.keys())) > 0:\n",
    "        yn = input(\"Did you mean %s instead? Enter Y if yes, or N if no: \" % get_close_matches(word, data.keys())[0])\n",
    "        if yn == \"Y\" or yn == \"y\":\n",
    "            return data[get_close_matches(word, data.keys())[0]]\n",
    "        elif yn == \"N\" or yn == \"n\":\n",
    "            return \"The word doesn't exist. Please double check it.\"\n",
    "        else:\n",
    "            return \"We didn't understand your entry.\"\n",
    "    else:\n",
    "        return \"The word doesn't exist. Please double check it.\"\n",
    "word = input(\"Enter word: \")\n",
    "output = meaning(word)\n",
    "if type(output) == list:\n",
    "    for item in output:\n",
    "        print(item)\n",
    "else:\n",
    "    print(output)"
   ]
  }
 ],
 "metadata": {
  "kernelspec": {
   "display_name": "Python 3",
   "language": "python",
   "name": "python3"
  },
  "language_info": {
   "codemirror_mode": {
    "name": "ipython",
    "version": 3
   },
   "file_extension": ".py",
   "mimetype": "text/x-python",
   "name": "python",
   "nbconvert_exporter": "python",
   "pygments_lexer": "ipython3",
   "version": "3.7.6"
  }
 },
 "nbformat": 4,
 "nbformat_minor": 4
}
